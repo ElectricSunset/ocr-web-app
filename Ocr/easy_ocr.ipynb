{
 "cells": [
  {
   "cell_type": "code",
   "execution_count": 2,
   "metadata": {},
   "outputs": [
    {
     "name": "stdout",
     "output_type": "stream",
     "text": [
      "Collecting easyocr\n",
      "  Using cached easyocr-1.7.1-py3-none-any.whl (2.9 MB)\n",
      "Collecting torch (from easyocr)\n",
      "  Using cached torch-2.1.2-cp39-cp39-win_amd64.whl (192.2 MB)\n",
      "Collecting torchvision>=0.5 (from easyocr)\n",
      "  Using cached torchvision-0.16.2-cp39-cp39-win_amd64.whl (1.1 MB)\n",
      "Collecting opencv-python-headless (from easyocr)\n",
      "  Using cached opencv_python_headless-4.8.1.78-cp37-abi3-win_amd64.whl (38.0 MB)\n",
      "Requirement already satisfied: scipy in c:\\users\\shendy\\appdata\\local\\programs\\python\\python39\\lib\\site-packages (from easyocr) (1.8.1)\n",
      "Requirement already satisfied: numpy in c:\\users\\shendy\\appdata\\local\\programs\\python\\python39\\lib\\site-packages (from easyocr) (1.22.4)\n",
      "Requirement already satisfied: Pillow in c:\\users\\shendy\\appdata\\local\\programs\\python\\python39\\lib\\site-packages (from easyocr) (9.2.0)\n",
      "Requirement already satisfied: scikit-image in c:\\users\\shendy\\appdata\\local\\programs\\python\\python39\\lib\\site-packages (from easyocr) (0.19.3)\n",
      "Requirement already satisfied: python-bidi in c:\\users\\shendy\\appdata\\local\\programs\\python\\python39\\lib\\site-packages (from easyocr) (0.4.2)\n",
      "Requirement already satisfied: PyYAML in c:\\users\\shendy\\appdata\\local\\programs\\python\\python39\\lib\\site-packages (from easyocr) (6.0)\n",
      "Requirement already satisfied: Shapely in c:\\users\\shendy\\appdata\\local\\programs\\python\\python39\\lib\\site-packages (from easyocr) (2.0.2)\n",
      "Requirement already satisfied: pyclipper in c:\\users\\shendy\\appdata\\local\\programs\\python\\python39\\lib\\site-packages (from easyocr) (1.3.0.post5)\n",
      "Requirement already satisfied: ninja in c:\\users\\shendy\\appdata\\local\\programs\\python\\python39\\lib\\site-packages (from easyocr) (1.11.1.1)\n",
      "Requirement already satisfied: requests in c:\\users\\shendy\\appdata\\local\\programs\\python\\python39\\lib\\site-packages (from torchvision>=0.5->easyocr) (2.31.0)\n",
      "Collecting filelock (from torch->easyocr)\n",
      "  Using cached filelock-3.13.1-py3-none-any.whl (11 kB)\n",
      "Requirement already satisfied: typing-extensions in c:\\users\\shendy\\appdata\\local\\programs\\python\\python39\\lib\\site-packages (from torch->easyocr) (4.6.2)\n",
      "Requirement already satisfied: sympy in c:\\users\\shendy\\appdata\\local\\programs\\python\\python39\\lib\\site-packages (from torch->easyocr) (1.12)\n",
      "Requirement already satisfied: networkx in c:\\users\\shendy\\appdata\\local\\programs\\python\\python39\\lib\\site-packages (from torch->easyocr) (2.8.5)\n",
      "Requirement already satisfied: jinja2 in c:\\users\\shendy\\appdata\\local\\programs\\python\\python39\\lib\\site-packages (from torch->easyocr) (3.1.2)\n",
      "Collecting fsspec (from torch->easyocr)\n",
      "  Using cached fsspec-2023.12.2-py3-none-any.whl (168 kB)\n",
      "Requirement already satisfied: six in c:\\users\\shendy\\appdata\\local\\programs\\python\\python39\\lib\\site-packages (from python-bidi->easyocr) (1.16.0)\n",
      "Requirement already satisfied: imageio>=2.4.1 in c:\\users\\shendy\\appdata\\local\\programs\\python\\python39\\lib\\site-packages (from scikit-image->easyocr) (2.20.0)\n",
      "Requirement already satisfied: tifffile>=2019.7.26 in c:\\users\\shendy\\appdata\\local\\programs\\python\\python39\\lib\\site-packages (from scikit-image->easyocr) (2022.7.28)\n",
      "Requirement already satisfied: PyWavelets>=1.1.1 in c:\\users\\shendy\\appdata\\local\\programs\\python\\python39\\lib\\site-packages (from scikit-image->easyocr) (1.3.0)\n",
      "Requirement already satisfied: packaging>=20.0 in c:\\users\\shendy\\appdata\\local\\programs\\python\\python39\\lib\\site-packages (from scikit-image->easyocr) (21.3)\n",
      "Requirement already satisfied: pyparsing!=3.0.5,>=2.0.2 in c:\\users\\shendy\\appdata\\local\\programs\\python\\python39\\lib\\site-packages (from packaging>=20.0->scikit-image->easyocr) (3.0.9)\n",
      "Requirement already satisfied: MarkupSafe>=2.0 in c:\\users\\shendy\\appdata\\local\\programs\\python\\python39\\lib\\site-packages (from jinja2->torch->easyocr) (2.1.1)\n",
      "Requirement already satisfied: charset-normalizer<4,>=2 in c:\\users\\shendy\\appdata\\local\\programs\\python\\python39\\lib\\site-packages (from requests->torchvision>=0.5->easyocr) (3.1.0)\n",
      "Requirement already satisfied: idna<4,>=2.5 in c:\\users\\shendy\\appdata\\local\\programs\\python\\python39\\lib\\site-packages (from requests->torchvision>=0.5->easyocr) (3.4)\n",
      "Requirement already satisfied: urllib3<3,>=1.21.1 in c:\\users\\shendy\\appdata\\local\\programs\\python\\python39\\lib\\site-packages (from requests->torchvision>=0.5->easyocr) (1.26.10)\n",
      "Requirement already satisfied: certifi>=2017.4.17 in c:\\users\\shendy\\appdata\\local\\programs\\python\\python39\\lib\\site-packages (from requests->torchvision>=0.5->easyocr) (2023.5.7)\n",
      "Requirement already satisfied: mpmath>=0.19 in c:\\users\\shendy\\appdata\\local\\programs\\python\\python39\\lib\\site-packages (from sympy->torch->easyocr) (1.3.0)\n",
      "Installing collected packages: opencv-python-headless, fsspec, filelock, torch, torchvision, easyocr\n"
     ]
    },
    {
     "name": "stderr",
     "output_type": "stream",
     "text": [
      "ERROR: Could not install packages due to an OSError: [WinError 5] Access is denied: 'c:\\\\Users\\\\Shendy\\\\AppData\\\\Local\\\\Programs\\\\Python\\\\Python39\\\\Lib\\\\site-packages\\\\cv2\\\\cv2.pyd'\n",
      "Consider using the `--user` option or check the permissions.\n",
      "\n",
      "\n",
      "[notice] A new release of pip is available: 23.1.2 -> 23.3.2\n",
      "[notice] To update, run: python.exe -m pip install --upgrade pip\n"
     ]
    }
   ],
   "source": [
    "!pip install easyocr"
   ]
  }
 ],
 "metadata": {
  "kernelspec": {
   "display_name": "Python 3",
   "language": "python",
   "name": "python3"
  },
  "language_info": {
   "codemirror_mode": {
    "name": "ipython",
    "version": 3
   },
   "file_extension": ".py",
   "mimetype": "text/x-python",
   "name": "python",
   "nbconvert_exporter": "python",
   "pygments_lexer": "ipython3",
   "version": "3.9.13"
  }
 },
 "nbformat": 4,
 "nbformat_minor": 2
}
